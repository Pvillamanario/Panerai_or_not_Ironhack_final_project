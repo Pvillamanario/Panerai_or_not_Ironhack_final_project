{
 "cells": [
  {
   "cell_type": "code",
   "execution_count": 15,
   "metadata": {},
   "outputs": [],
   "source": [
    "closest_watches = [\"../data/imgs/WF_panerai/151518_PAM00448_Radiomir California 3 Days.jpeg\",\n",
    "        \"../data/imgs/WF_panerai/159611_PAM00262_Radiomir Manual.jpeg\",\n",
    "        \"../data/imgs/WF_panerai/166727_PAM00721_Radiomir 3 Days Acciaio.jpeg\",\n",
    "        \"../data/imgs/WF_panerai/165500_PAM00424_Radiomir California 3 Days.jpeg\",\n",
    "        \"../data/imgs/WF_panerai/142877_PAM00232_Radiomir 1938.jpeg\"]"
   ]
  },
  {
   "cell_type": "code",
   "execution_count": 16,
   "metadata": {},
   "outputs": [
    {
     "data": {
      "text/plain": [
       "['../data/imgs/WF_panerai/151518_PAM00448_Radiomir California 3 Days.jpeg',\n",
       " '../data/imgs/WF_panerai/159611_PAM00262_Radiomir Manual.jpeg',\n",
       " '../data/imgs/WF_panerai/166727_PAM00721_Radiomir 3 Days Acciaio.jpeg',\n",
       " '../data/imgs/WF_panerai/165500_PAM00424_Radiomir California 3 Days.jpeg',\n",
       " '../data/imgs/WF_panerai/142877_PAM00232_Radiomir 1938.jpeg']"
      ]
     },
     "execution_count": 16,
     "metadata": {},
     "output_type": "execute_result"
    }
   ],
   "source": [
    "closest_watches"
   ]
  },
  {
   "cell_type": "code",
   "execution_count": 27,
   "metadata": {},
   "outputs": [
    {
     "name": "stdout",
     "output_type": "stream",
     "text": [
      "../data/imgs/WF_panerai/151518_PAM00448_Radiomir California 3 Days.jpeg\n",
      "../data/imgs/WF_panerai/159611_PAM00262_Radiomir Manual.jpeg\n",
      "../data/imgs/WF_panerai/166727_PAM00721_Radiomir 3 Days Acciaio.jpeg\n",
      "../data/imgs/WF_panerai/165500_PAM00424_Radiomir California 3 Days.jpeg\n",
      "../data/imgs/WF_panerai/142877_PAM00232_Radiomir 1938.jpeg\n"
     ]
    }
   ],
   "source": [
    "pic_list = {}\n",
    "for i in closest_watches:\n",
    "    str = i[24:-5]\n",
    "    str = str.split('_')\n",
    "    pic_list.update({str[2]:i})"
   ]
  },
  {
   "cell_type": "code",
   "execution_count": 28,
   "metadata": {},
   "outputs": [
    {
     "data": {
      "text/plain": [
       "{'Radiomir California 3 Days': '../data/imgs/WF_panerai/165500_PAM00424_Radiomir California 3 Days.jpeg',\n",
       " 'Radiomir Manual': '../data/imgs/WF_panerai/159611_PAM00262_Radiomir Manual.jpeg',\n",
       " 'Radiomir 3 Days Acciaio': '../data/imgs/WF_panerai/166727_PAM00721_Radiomir 3 Days Acciaio.jpeg',\n",
       " 'Radiomir 1938': '../data/imgs/WF_panerai/142877_PAM00232_Radiomir 1938.jpeg'}"
      ]
     },
     "execution_count": 28,
     "metadata": {},
     "output_type": "execute_result"
    }
   ],
   "source": [
    "pic_list"
   ]
  },
  {
   "cell_type": "code",
   "execution_count": null,
   "metadata": {},
   "outputs": [],
   "source": []
  }
 ],
 "metadata": {
  "kernelspec": {
   "display_name": "Python [conda env:final_env]",
   "language": "python",
   "name": "conda-env-final_env-py"
  },
  "language_info": {
   "codemirror_mode": {
    "name": "ipython",
    "version": 3
   },
   "file_extension": ".py",
   "mimetype": "text/x-python",
   "name": "python",
   "nbconvert_exporter": "python",
   "pygments_lexer": "ipython3",
   "version": "3.7.9"
  }
 },
 "nbformat": 4,
 "nbformat_minor": 4
}
